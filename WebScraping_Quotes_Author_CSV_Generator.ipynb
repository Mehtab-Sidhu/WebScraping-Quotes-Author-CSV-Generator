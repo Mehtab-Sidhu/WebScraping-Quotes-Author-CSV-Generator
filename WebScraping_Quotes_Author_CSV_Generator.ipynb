{
 "cells": [
  {
   "cell_type": "markdown",
   "id": "dc2c6323",
   "metadata": {},
   "source": [
    "# Web Scraping: Quotes Author CSV Generator\n",
    "\n",
    "The \"Web Scraping: Quotes Author CSV Generator\" is a Python script that performs web scraping on the \"http://quotes.toscrape.com/\" website to extract author names from multiple pages and save them in a CSV file. The script uses the BeautifulSoup library to parse the web page and requests library to fetch data from the website. The resulting CSV file contains a list of unique author names."
   ]
  },
  {
   "cell_type": "code",
   "execution_count": 9,
   "id": "2d4a88a4",
   "metadata": {},
   "outputs": [],
   "source": [
    "# Importing required libraries\n",
    "\n",
    "# BeautifulSoup for parsing HTML \n",
    "from bs4 import BeautifulSoup as bs\n",
    "\n",
    "# Requests for making HTTP requests\n",
    "import requests"
   ]
  },
  {
   "cell_type": "code",
   "execution_count": 10,
   "id": "3d7761d9",
   "metadata": {},
   "outputs": [],
   "source": [
    "# Initializing empty list for authors\n",
    "authors = []\n",
    "\n",
    "# Initializing empty dictionary to keep track of quote count of each author\n",
    "dict_authors = {}"
   ]
  },
  {
   "cell_type": "code",
   "execution_count": 11,
   "id": "0cf5c4f9",
   "metadata": {},
   "outputs": [],
   "source": [
    "# Iterating through pages 1 to 10 of the website to scrape data\n",
    "for i in range(1, 11):\n",
    "    if i==1:\n",
    "        response = requests.get(\"http://quotes.toscrape.com/\")\n",
    "    else:\n",
    "        response = requests.get(\"http://quotes.toscrape.com/\" + \"/page/\" + str(i) + \"/\")\n",
    "    data = bs(response.text, \"html.parser\")\n",
    "    \n",
    "    # Finding all elements with class author\n",
    "    lst = data.find_all(class_=\"author\")\n",
    "    \n",
    "    # Extract author names and update dictionary count\n",
    "    for j in lst:\n",
    "        # Removing the leading and trailing spaces\n",
    "        author_name = j.string.strip()\n",
    "        \n",
    "        # Appending to author list \n",
    "        authors.append(author_name)\n",
    "        \n",
    "        # Update the dictionary count\n",
    "        dict_authors[author_name] = dict_authors.get(author_name, 0) + 1\n",
    "\n",
    "authors = sorted(set(authors))"
   ]
  },
  {
   "cell_type": "code",
   "execution_count": 12,
   "id": "a3e54a7c",
   "metadata": {},
   "outputs": [
    {
     "name": "stdout",
     "output_type": "stream",
     "text": [
      "CSV file created successfully!\n"
     ]
    }
   ],
   "source": [
    "# Writing data to CSV file\n",
    "\n",
    "# Importing required library \n",
    "import csv \n",
    "\n",
    "csv_file = \"authors.csv\"\n",
    "\n",
    "with open(csv_file, mode=\"w\", newline=\"\", encoding=\"utf-8\") as file:\n",
    "    writer = csv.writer(file)\n",
    "    writer.writerow([\"Authors Name\"])\n",
    "    writer.writerows([[author] for author in authors])\n",
    "\n",
    "print(\"CSV file created successfully!\")"
   ]
  },
  {
   "cell_type": "code",
   "execution_count": null,
   "id": "f8504900",
   "metadata": {},
   "outputs": [],
   "source": []
  }
 ],
 "metadata": {
  "kernelspec": {
   "display_name": "Python 3 (ipykernel)",
   "language": "python",
   "name": "python3"
  },
  "language_info": {
   "codemirror_mode": {
    "name": "ipython",
    "version": 3
   },
   "file_extension": ".py",
   "mimetype": "text/x-python",
   "name": "python",
   "nbconvert_exporter": "python",
   "pygments_lexer": "ipython3",
   "version": "3.11.4"
  }
 },
 "nbformat": 4,
 "nbformat_minor": 5
}
